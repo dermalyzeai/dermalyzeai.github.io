{
 "cells": [
  {
   "cell_type": "code",
   "execution_count": null,
   "id": "3a068696-90e7-489c-a688-820c3eeece35",
   "metadata": {},
   "outputs": [],
   "source": []
  }
 ],
 "metadata": {
  "kernelspec": {
   "display_name": "Python 3 (ipykernel)",
   "language": "python",
   "name": "python3"
  },
  "language_info": {
   "name": ""
  }
 },
 "nbformat": 4,
 "nbformat_minor": 5
}
